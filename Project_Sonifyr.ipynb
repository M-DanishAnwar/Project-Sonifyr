!pip install --upgrade pip
!pip install torch transformers gradio requests

import requests
from transformers import AutoModelForCausalLM, AutoTokenizer, pipeline
import torch

# Load the MusicGen model
pipe = pipeline("text-to-audio", model="facebook/musicgen-small")

# Define Deezer API search endpoint
DEEZER_API_URL = "https://api.deezer.com/search"

# Function to search for songs
def search_song(query):
    params = {
        'q': query
    }
    response = requests.get(DEEZER_API_URL, params=params)
    if response.status_code == 200:
        return response.json().get('data', [])
    else:
        return []

# Function to generate music
def generate_music(prompt):
    inputs = pipe(prompt)
    return inputs


import gradio as gr

def create_interface():
    with gr.Blocks() as demo:
        gr.Markdown("# Project Sonifyr")
        
        # Search bar for song or artist
        query = gr.Textbox(label="Search for a song or artist:")
        
        # Button to search for songs
        search_btn = gr.Button("Search Songs")
        
        # Output area for song results
        song_output = gr.Markdown("")
        
        # Button to generate music
        generate_btn = gr.Button("Generate Music")
        
        # Output area for generated music
        generated_output = gr.Markdown("")

        # Functionality for searching songs
        def on_search(query):
            songs = search_song(query)
            if songs:
                results = f"Found {len(songs)} results for '{query}':\n"
                for song in songs:
                    song_title = song['title']
                    artist_name = song['artist']['name']
                    preview_url = song['preview']
                    results += f"- {song_title} by {artist_name}\n"
                    results += f"[Listen Preview]({preview_url})\n"
                return results
            else:
                return "No songs found. Try a different search term."

        # Functionality for generating music
        def on_generate_music(prompt):
            generated_music = generate_music(prompt)
            return f"Generated Music:\n{generated_music}"

        # Connect buttons to functions
        search_btn.click(on_search, inputs=query, outputs=song_output)
        generate_btn.click(on_generate_music, inputs=query, outputs=generated_output)

    return demo

# Create the interface
iface = create_interface()



# Launch the interface
iface.launch()
